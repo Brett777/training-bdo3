{
 "cells": [
  {
   "cell_type": "markdown",
   "metadata": {
    "_datascience": {
     "keep": true,
     "summary": true
    }
   },
   "source": [
    "# Customer Churn Analysis\n",
    "Churn rate, when applied to a customer base, refers to the proportion of contractual customers or subscribers who leave a supplier during a given time period. It is a possible indicator of customer dissatisfaction, cheaper and/or better offers from the competition, more successful sales and/or marketing by the competition, or reasons having to do with the customer life cycle.\n",
    "\n",
    "Churn is closely related to the concept of average customer life time. For example, an annual churn rate of 25 percent implies an average customer life of four years. An annual churn rate of 33 percent implies an average customer life of three years. The churn rate can be minimized by creating barriers which discourage customers to change suppliers (contractual binding periods, use of proprietary technology, value-added services, unique business models, etc.), or through retention activities such as loyalty programs. It is possible to overstate the churn rate, as when a consumer drops the service but then restarts it within the same year. Thus, a clear distinction needs to be made between \"gross churn\", the total number of absolute disconnections, and \"net churn\", the overall loss of subscribers or members. The difference between the two measures is the number of new subscribers or members that have joined during the same period. Suppliers may find that if they offer a loss-leader \"introductory special\", it can lead to a higher churn rate and subscriber abuse, as some subscribers will sign on, let the service lapse, then sign on again to take continuous advantage of current specials. https://en.wikipedia.org/wiki/Churn_rate"
   ]
  },
  {
   "cell_type": "code",
   "execution_count": 103,
   "metadata": {
    "_datascience": {},
    "collapsed": true
   },
   "outputs": [],
   "source": [
    "%%capture\n",
    "\n",
    "# Get our favorite packages from PyPI\n",
    "! pip install plotly\n",
    "! pip install cufflinks\n",
    "! pip install h2o\n",
    "\n",
    "\n",
    "\n",
    "# Import pre-installed packages\n",
    "import numpy as np\n",
    "import pandas as pd\n",
    "\n",
    "\n",
    "\n",
    "# Suppress unwatned warnings\n",
    "import warnings\n",
    "warnings.filterwarnings('ignore')\n",
    "import logging\n",
    "logging.getLogger(\"requests\").setLevel(logging.WARNING)"
   ]
  },
  {
   "cell_type": "code",
   "execution_count": 104,
   "metadata": {
    "_datascience": {}
   },
   "outputs": [
    {
     "data": {
      "text/html": [
       "<script>requirejs.config({paths: { 'plotly': ['https://cdn.plot.ly/plotly-latest.min']},});if(!window.Plotly) {{require(['plotly'],function(plotly) {window.Plotly=plotly;});}}</script>"
      ],
      "text/vnd.plotly.v1+html": [
       "<script>requirejs.config({paths: { 'plotly': ['https://cdn.plot.ly/plotly-latest.min']},});if(!window.Plotly) {{require(['plotly'],function(plotly) {window.Plotly=plotly;});}}</script>"
      ]
     },
     "metadata": {},
     "output_type": "display_data"
    }
   ],
   "source": [
    "# Load our favorite visualization library\n",
    "\n",
    "import plotly\n",
    "import plotly.plotly as py\n",
    "import plotly.figure_factory as ff\n",
    "import plotly.graph_objs as go\n",
    "import cufflinks as cf\n",
    "plotly.offline.init_notebook_mode(connected=True)\n",
    "\n",
    "# Sign into Plotly with masked, encrypted API key\n",
    "\n",
    "#myPlotlyKey = os.environ['SECRET_ENV_BRETTS_PLOTLY_KEY']\n",
    "py.sign_in(username='bretto777',api_key='conh5EnFad0Z9Lz6mVWr')\n"
   ]
  },
  {
   "cell_type": "code",
   "execution_count": 105,
   "metadata": {
    "_datascience": {
     "keep": false
    },
    "scrolled": false
   },
   "outputs": [
    {
     "data": {
      "text/html": [
       "<div>\n",
       "<table border=\"1\" class=\"dataframe\">\n",
       "  <thead>\n",
       "    <tr style=\"text-align: right;\">\n",
       "      <th></th>\n",
       "      <th>State</th>\n",
       "      <th>Account Length</th>\n",
       "      <th>Area Code</th>\n",
       "      <th>Phone</th>\n",
       "      <th>Int'l Plan</th>\n",
       "      <th>VMail Plan</th>\n",
       "      <th>VMail Message</th>\n",
       "      <th>Day Mins</th>\n",
       "      <th>Day Calls</th>\n",
       "      <th>Day Charge</th>\n",
       "      <th>...</th>\n",
       "      <th>Eve Calls</th>\n",
       "      <th>Eve Charge</th>\n",
       "      <th>Night Mins</th>\n",
       "      <th>Night Calls</th>\n",
       "      <th>Night Charge</th>\n",
       "      <th>Intl Mins</th>\n",
       "      <th>Intl Calls</th>\n",
       "      <th>Intl Charge</th>\n",
       "      <th>CustServ Calls</th>\n",
       "      <th>Churn</th>\n",
       "    </tr>\n",
       "  </thead>\n",
       "  <tbody>\n",
       "    <tr>\n",
       "      <th>0</th>\n",
       "      <td>ND</td>\n",
       "      <td>84</td>\n",
       "      <td>415</td>\n",
       "      <td>400-7253</td>\n",
       "      <td>no</td>\n",
       "      <td>yes</td>\n",
       "      <td>33</td>\n",
       "      <td>159.1</td>\n",
       "      <td>106</td>\n",
       "      <td>27.05</td>\n",
       "      <td>...</td>\n",
       "      <td>101</td>\n",
       "      <td>12.73</td>\n",
       "      <td>213.4</td>\n",
       "      <td>108</td>\n",
       "      <td>9.60</td>\n",
       "      <td>13.0</td>\n",
       "      <td>18</td>\n",
       "      <td>3.51</td>\n",
       "      <td>1</td>\n",
       "      <td>Retain</td>\n",
       "    </tr>\n",
       "    <tr>\n",
       "      <th>1</th>\n",
       "      <td>RI</td>\n",
       "      <td>117</td>\n",
       "      <td>408</td>\n",
       "      <td>370-5042</td>\n",
       "      <td>no</td>\n",
       "      <td>yes</td>\n",
       "      <td>13</td>\n",
       "      <td>207.6</td>\n",
       "      <td>65</td>\n",
       "      <td>35.29</td>\n",
       "      <td>...</td>\n",
       "      <td>77</td>\n",
       "      <td>12.98</td>\n",
       "      <td>232.8</td>\n",
       "      <td>95</td>\n",
       "      <td>10.48</td>\n",
       "      <td>9.7</td>\n",
       "      <td>3</td>\n",
       "      <td>2.62</td>\n",
       "      <td>1</td>\n",
       "      <td>Retain</td>\n",
       "    </tr>\n",
       "    <tr>\n",
       "      <th>2</th>\n",
       "      <td>VA</td>\n",
       "      <td>132</td>\n",
       "      <td>510</td>\n",
       "      <td>343-4696</td>\n",
       "      <td>no</td>\n",
       "      <td>no</td>\n",
       "      <td>0</td>\n",
       "      <td>81.1</td>\n",
       "      <td>86</td>\n",
       "      <td>13.79</td>\n",
       "      <td>...</td>\n",
       "      <td>72</td>\n",
       "      <td>20.84</td>\n",
       "      <td>237.0</td>\n",
       "      <td>115</td>\n",
       "      <td>10.67</td>\n",
       "      <td>10.3</td>\n",
       "      <td>2</td>\n",
       "      <td>2.78</td>\n",
       "      <td>0</td>\n",
       "      <td>Retain</td>\n",
       "    </tr>\n",
       "    <tr>\n",
       "      <th>3</th>\n",
       "      <td>OK</td>\n",
       "      <td>121</td>\n",
       "      <td>408</td>\n",
       "      <td>364-2495</td>\n",
       "      <td>no</td>\n",
       "      <td>yes</td>\n",
       "      <td>31</td>\n",
       "      <td>237.1</td>\n",
       "      <td>63</td>\n",
       "      <td>40.31</td>\n",
       "      <td>...</td>\n",
       "      <td>117</td>\n",
       "      <td>17.48</td>\n",
       "      <td>196.7</td>\n",
       "      <td>85</td>\n",
       "      <td>8.85</td>\n",
       "      <td>10.1</td>\n",
       "      <td>5</td>\n",
       "      <td>2.73</td>\n",
       "      <td>4</td>\n",
       "      <td>Retain</td>\n",
       "    </tr>\n",
       "    <tr>\n",
       "      <th>4</th>\n",
       "      <td>ME</td>\n",
       "      <td>205</td>\n",
       "      <td>510</td>\n",
       "      <td>413-4039</td>\n",
       "      <td>no</td>\n",
       "      <td>yes</td>\n",
       "      <td>24</td>\n",
       "      <td>175.8</td>\n",
       "      <td>139</td>\n",
       "      <td>29.89</td>\n",
       "      <td>...</td>\n",
       "      <td>98</td>\n",
       "      <td>13.18</td>\n",
       "      <td>180.7</td>\n",
       "      <td>64</td>\n",
       "      <td>8.13</td>\n",
       "      <td>7.8</td>\n",
       "      <td>5</td>\n",
       "      <td>2.11</td>\n",
       "      <td>2</td>\n",
       "      <td>Retain</td>\n",
       "    </tr>\n",
       "    <tr>\n",
       "      <th>5</th>\n",
       "      <td>MT</td>\n",
       "      <td>116</td>\n",
       "      <td>415</td>\n",
       "      <td>384-5907</td>\n",
       "      <td>no</td>\n",
       "      <td>yes</td>\n",
       "      <td>35</td>\n",
       "      <td>182.8</td>\n",
       "      <td>122</td>\n",
       "      <td>31.08</td>\n",
       "      <td>...</td>\n",
       "      <td>119</td>\n",
       "      <td>18.08</td>\n",
       "      <td>193.8</td>\n",
       "      <td>103</td>\n",
       "      <td>8.72</td>\n",
       "      <td>11.0</td>\n",
       "      <td>2</td>\n",
       "      <td>2.97</td>\n",
       "      <td>1</td>\n",
       "      <td>Retain</td>\n",
       "    </tr>\n",
       "    <tr>\n",
       "      <th>6</th>\n",
       "      <td>MN</td>\n",
       "      <td>113</td>\n",
       "      <td>408</td>\n",
       "      <td>417-5146</td>\n",
       "      <td>no</td>\n",
       "      <td>no</td>\n",
       "      <td>0</td>\n",
       "      <td>158.9</td>\n",
       "      <td>137</td>\n",
       "      <td>27.01</td>\n",
       "      <td>...</td>\n",
       "      <td>109</td>\n",
       "      <td>20.64</td>\n",
       "      <td>247.8</td>\n",
       "      <td>97</td>\n",
       "      <td>11.15</td>\n",
       "      <td>6.5</td>\n",
       "      <td>4</td>\n",
       "      <td>1.76</td>\n",
       "      <td>0</td>\n",
       "      <td>Retain</td>\n",
       "    </tr>\n",
       "    <tr>\n",
       "      <th>7</th>\n",
       "      <td>MO</td>\n",
       "      <td>74</td>\n",
       "      <td>415</td>\n",
       "      <td>421-2955</td>\n",
       "      <td>no</td>\n",
       "      <td>no</td>\n",
       "      <td>0</td>\n",
       "      <td>172.1</td>\n",
       "      <td>105</td>\n",
       "      <td>29.26</td>\n",
       "      <td>...</td>\n",
       "      <td>99</td>\n",
       "      <td>17.99</td>\n",
       "      <td>182.2</td>\n",
       "      <td>105</td>\n",
       "      <td>8.20</td>\n",
       "      <td>11.6</td>\n",
       "      <td>6</td>\n",
       "      <td>3.13</td>\n",
       "      <td>1</td>\n",
       "      <td>Retain</td>\n",
       "    </tr>\n",
       "    <tr>\n",
       "      <th>8</th>\n",
       "      <td>MI</td>\n",
       "      <td>112</td>\n",
       "      <td>510</td>\n",
       "      <td>420-1383</td>\n",
       "      <td>no</td>\n",
       "      <td>no</td>\n",
       "      <td>0</td>\n",
       "      <td>243.4</td>\n",
       "      <td>77</td>\n",
       "      <td>41.38</td>\n",
       "      <td>...</td>\n",
       "      <td>97</td>\n",
       "      <td>15.48</td>\n",
       "      <td>259.2</td>\n",
       "      <td>94</td>\n",
       "      <td>11.66</td>\n",
       "      <td>12.8</td>\n",
       "      <td>2</td>\n",
       "      <td>3.46</td>\n",
       "      <td>1</td>\n",
       "      <td>Retain</td>\n",
       "    </tr>\n",
       "    <tr>\n",
       "      <th>9</th>\n",
       "      <td>UT</td>\n",
       "      <td>68</td>\n",
       "      <td>415</td>\n",
       "      <td>403-8916</td>\n",
       "      <td>no</td>\n",
       "      <td>no</td>\n",
       "      <td>0</td>\n",
       "      <td>213.9</td>\n",
       "      <td>112</td>\n",
       "      <td>36.36</td>\n",
       "      <td>...</td>\n",
       "      <td>100</td>\n",
       "      <td>22.14</td>\n",
       "      <td>233.8</td>\n",
       "      <td>97</td>\n",
       "      <td>10.52</td>\n",
       "      <td>8.4</td>\n",
       "      <td>3</td>\n",
       "      <td>2.27</td>\n",
       "      <td>1</td>\n",
       "      <td>Churn</td>\n",
       "    </tr>\n",
       "  </tbody>\n",
       "</table>\n",
       "<p>10 rows × 21 columns</p>\n",
       "</div>"
      ],
      "text/plain": [
       "  State  Account Length  Area Code     Phone Int'l Plan VMail Plan  \\\n",
       "0    ND              84        415  400-7253         no        yes   \n",
       "1    RI             117        408  370-5042         no        yes   \n",
       "2    VA             132        510  343-4696         no         no   \n",
       "3    OK             121        408  364-2495         no        yes   \n",
       "4    ME             205        510  413-4039         no        yes   \n",
       "5    MT             116        415  384-5907         no        yes   \n",
       "6    MN             113        408  417-5146         no         no   \n",
       "7    MO              74        415  421-2955         no         no   \n",
       "8    MI             112        510  420-1383         no         no   \n",
       "9    UT              68        415  403-8916         no         no   \n",
       "\n",
       "   VMail Message  Day Mins  Day Calls  Day Charge   ...    Eve Calls  \\\n",
       "0             33     159.1        106       27.05   ...          101   \n",
       "1             13     207.6         65       35.29   ...           77   \n",
       "2              0      81.1         86       13.79   ...           72   \n",
       "3             31     237.1         63       40.31   ...          117   \n",
       "4             24     175.8        139       29.89   ...           98   \n",
       "5             35     182.8        122       31.08   ...          119   \n",
       "6              0     158.9        137       27.01   ...          109   \n",
       "7              0     172.1        105       29.26   ...           99   \n",
       "8              0     243.4         77       41.38   ...           97   \n",
       "9              0     213.9        112       36.36   ...          100   \n",
       "\n",
       "   Eve Charge  Night Mins  Night Calls  Night Charge  Intl Mins  Intl Calls  \\\n",
       "0       12.73       213.4          108          9.60       13.0          18   \n",
       "1       12.98       232.8           95         10.48        9.7           3   \n",
       "2       20.84       237.0          115         10.67       10.3           2   \n",
       "3       17.48       196.7           85          8.85       10.1           5   \n",
       "4       13.18       180.7           64          8.13        7.8           5   \n",
       "5       18.08       193.8          103          8.72       11.0           2   \n",
       "6       20.64       247.8           97         11.15        6.5           4   \n",
       "7       17.99       182.2          105          8.20       11.6           6   \n",
       "8       15.48       259.2           94         11.66       12.8           2   \n",
       "9       22.14       233.8           97         10.52        8.4           3   \n",
       "\n",
       "   Intl Charge  CustServ Calls   Churn  \n",
       "0         3.51               1  Retain  \n",
       "1         2.62               1  Retain  \n",
       "2         2.78               0  Retain  \n",
       "3         2.73               4  Retain  \n",
       "4         2.11               2  Retain  \n",
       "5         2.97               1  Retain  \n",
       "6         1.76               0  Retain  \n",
       "7         3.13               1  Retain  \n",
       "8         3.46               1  Retain  \n",
       "9         2.27               1   Churn  \n",
       "\n",
       "[10 rows x 21 columns]"
      ]
     },
     "execution_count": 105,
     "metadata": {},
     "output_type": "execute_result"
    }
   ],
   "source": [
    "# Load some data\n",
    "churnDF = pd.read_csv('https://s3-us-west-1.amazonaws.com/dsclouddata/home/jupyter/churn_train.csv', delimiter=',')\n",
    "churnDF[\"Churn\"] = churnDF[\"Churn\"].replace(to_replace=False, value='Retain')\n",
    "churnDF[\"Churn\"] = churnDF[\"Churn\"].replace(to_replace=True, value='Churn')\n",
    "churnDFs = churnDF.sample(frac=0.07) # Sample for speedy viz\n",
    "churnDF.head(10)"
   ]
  },
  {
   "cell_type": "code",
   "execution_count": 106,
   "metadata": {
    "_datascience": {
     "keep": true
    }
   },
   "outputs": [
    {
     "data": {
      "text/html": [
       "<iframe id=\"igraph\" scrolling=\"no\" style=\"border:none;\" seamless=\"seamless\" src=\"https://plot.ly/~bretto777/2133.embed\" height=\"560px\" width=\"650px\"></iframe>"
      ],
      "text/plain": [
       "<plotly.tools.PlotlyDisplay object>"
      ]
     },
     "execution_count": 106,
     "metadata": {},
     "output_type": "execute_result"
    }
   ],
   "source": [
    "# separate the calls data for plotting\n",
    "churnDFs = churnDFs[['Account Length','Day Calls','Eve Calls','CustServ Calls','Churn']]\n",
    "\n",
    "# Create scatter plot matrix of call data\n",
    "splom = ff.create_scatterplotmatrix(churnDFs, diag='histogram', index='Churn',  \n",
    "                                  colormap= dict(\n",
    "                                      Churn = '#9CBEF1',\n",
    "                                      Retain = '#04367F'\n",
    "                                      ),\n",
    "                                  colormap_type='cat',\n",
    "                                  height=560, width=650,\n",
    "                                  size=4, marker=dict(symbol='circle'))\n",
    "py.iplot(splom)"
   ]
  },
  {
   "cell_type": "code",
   "execution_count": 107,
   "metadata": {
    "_datascience": {},
    "collapsed": true
   },
   "outputs": [],
   "source": [
    "%%capture\n",
    "import h2o\n",
    "from h2o.estimators.glm import H2OGeneralizedLinearEstimator\n",
    "from h2o.estimators.gbm import H2OGradientBoostingEstimator\n",
    "from h2o.estimators.random_forest import H2ORandomForestEstimator\n",
    "from h2o.estimators.deeplearning import H2ODeepLearningEstimator\n",
    "from h2o.estimators.stackedensemble import H2OStackedEnsembleEstimator\n",
    "from h2o.grid.grid_search import H2OGridSearch\n",
    "from __future__ import print_function\n",
    "h2o.init()\n",
    "h2o.remove_all()"
   ]
  },
  {
   "cell_type": "code",
   "execution_count": 108,
   "metadata": {
    "_datascience": {}
   },
   "outputs": [
    {
     "name": "stdout",
     "output_type": "stream",
     "text": [
      "Parse progress: |█████████████████████████████████████████████████████████| 100%\n",
      "Parse progress: |█████████████████████████████████████████████████████████| 100%\n"
     ]
    }
   ],
   "source": [
    "# Split data into training and testing frames\n",
    "\n",
    "from sklearn import cross_validation\n",
    "from sklearn.model_selection import train_test_split\n",
    "\n",
    "training, testing = train_test_split(churnDF, train_size=0.8, stratify=churnDF[\"Churn\"], random_state=9)\n",
    "train = h2o.H2OFrame(python_obj=training).drop(\"State\")\n",
    "test = h2o.H2OFrame(python_obj=testing).drop(\"State\")\n",
    "\n",
    "# Set predictor and response variables\n",
    "y = \"Churn\"\n",
    "x = train.columns\n",
    "x.remove(y)"
   ]
  },
  {
   "cell_type": "markdown",
   "metadata": {
    "_datascience": {
     "keep": true
    }
   },
   "source": [
    "# Super Learner\n",
    "The super learner is a prediction method designed to find the optimal combination of a collection of prediction algorithms. The super learner algorithm finds the combination of algorithms minimizing the cross-validated risk. The super learner framework is9 built in the theory of cross-validation and allows for a general class of prediction algorithms to be considered for the ensemble. http://biostats.bepress.com/ucbbiostat/paper266/ (Polley & Van der Laan, 2010)"
   ]
  },
  {
   "cell_type": "code",
   "execution_count": 109,
   "metadata": {
    "_datascience": {},
    "collapsed": true
   },
   "outputs": [],
   "source": [
    "# Reset variables\n",
    "del allModels, gridGBM, gridRF, grids, dfGridGBM, dfGridRF, ensemble\n"
   ]
  },
  {
   "cell_type": "code",
   "execution_count": 110,
   "metadata": {
    "_datascience": {},
    "collapsed": true
   },
   "outputs": [],
   "source": [
    "# Reset variables\n",
    "del SuperModel, BestModel, Model3, Model4, Model5, Model6, Model7, Model8, Model9, Model10"
   ]
  },
  {
   "cell_type": "code",
   "execution_count": 111,
   "metadata": {
    "_datascience": {}
   },
   "outputs": [
    {
     "name": "stdout",
     "output_type": "stream",
     "text": [
      "gbm Grid Build progress: |████████████████████████████████████████████████| 100%\n",
      "drf Grid Build progress: |████████████████████████████████████████████████| 100%\n",
      "stackedensemble Model Build progress: |███████████████████████████████████| 100%\n",
      "Best Base-learner Test AUC: 0.910876935859\n",
      "Ensemble Test AUC: 0.947278772518\n",
      "CPU times: user 2.16 s, sys: 128 ms, total: 2.29 s\n",
      "Wall time: 56.2 s\n"
     ]
    }
   ],
   "source": [
    "%%time\n",
    "# Specify GBM hyperparameters and stopping criteria for the grid\n",
    "nfolds = 5\n",
    "gbm_hyper_params = {\"learn_rate\":[0.075, 0.1], \"nbins\":[10,15,20],\"ntrees\": [20,30,40], \"max_depth\": [5,7,9], \"sample_rate\": [0.75, 0.8, 0.85, 0.9]}\n",
    "search_criteria = {\"strategy\": \"RandomDiscrete\", \"max_models\": 6}\n",
    "\n",
    "# Setup the GBM grid search\n",
    "gridGBM = H2OGridSearch(model=H2OGradientBoostingEstimator(balance_classes=True, seed=123, nfolds=nfolds, fold_assignment=\"Modulo\", keep_cross_validation_predictions=True),\n",
    "                     hyper_params=gbm_hyper_params,\n",
    "                     search_criteria=search_criteria,\n",
    "                     grid_id=\"gbm_grid_binomial\")\n",
    "\n",
    "# Start the GBM training\n",
    "gridGBM.train(x=x, y=y, training_frame=train)\n",
    "         \n",
    "\n",
    "    \n",
    "# Setup the Random Forest grid search\n",
    "rf_hyper_params = {\"mtries\":[12,15,18],\"nbins\":[10,20,30], \"ntrees\": [25,50,75], \"max_depth\": [5,7], \"sample_rate\": [0.75, 0.8, 0.85, 0.9]}\n",
    "gridRF = H2OGridSearch(model=H2ORandomForestEstimator(balance_classes=True, seed=123, nfolds=nfolds, fold_assignment=\"Modulo\", keep_cross_validation_predictions=True),                     \n",
    "                      hyper_params=rf_hyper_params,\n",
    "                      search_criteria=search_criteria,\n",
    "                      grid_id=\"rf_grid_binomial\")\n",
    "\n",
    "# Start the Random Forest training\n",
    "gridRF.train(x=x, y=y, training_frame=train)\n",
    "\n",
    "\n",
    "# List the GBMs and Random Forests that we wish to ensemble\n",
    "grids = gridGBM.model_ids + gridRF.model_ids\n",
    "\n",
    "\n",
    "# Train the super learner\n",
    "ensemble = H2OStackedEnsembleEstimator(model_id=\"GBM_RF_ensemble_\", base_models=grids, training_frame=train, validation_frame=test)\n",
    "ensemble.train(x=x, y=y, training_frame=train)\n",
    "\n",
    "\n",
    "# Evaluate ensemble performance on the test data\n",
    "perf_stack_test = ensemble.model_performance(test)\n",
    "\n",
    "\n",
    "# Compare the super learner to the base learners. First, combine all the base models into a single list, sorted by auc.\n",
    "dfGridGBM = pd.DataFrame(data=gridGBM.get_grid(sort_by=\"auc\", decreasing=True).sorted_metric_table())\n",
    "dfGridRF = pd.DataFrame(data=gridRF.get_grid(sort_by=\"auc\", decreasing=True).sorted_metric_table())\n",
    "allModels = dfGridGBM.append(dfGridRF)\n",
    "allModels['auc'] = allModels['auc'].astype('float64')\n",
    "allModels.sort_values(by=\"auc\", ascending=False, inplace=True)\n",
    "allModels = allModels.reset_index()\n",
    "baselearner_best_name = allModels.loc[0,'model_ids']\n",
    "baselearner_best_auc = allModels.loc[0,'auc']\n",
    "\n",
    "# Best stacked model auc\n",
    "stack_auc_test = perf_stack_test.auc()\n",
    "\n",
    "\n",
    "print(\"Best Base-learner Test AUC: \" + str(baselearner_best_auc))\n",
    "print(\"Ensemble Test AUC: \" + str(stack_auc_test))"
   ]
  },
  {
   "cell_type": "code",
   "execution_count": 112,
   "metadata": {
    "_datascience": {}
   },
   "outputs": [
    {
     "data": {
      "text/html": [
       "<div>\n",
       "<table border=\"1\" class=\"dataframe\">\n",
       "  <thead>\n",
       "    <tr style=\"text-align: right;\">\n",
       "      <th></th>\n",
       "      <th>index</th>\n",
       "      <th></th>\n",
       "      <th>auc</th>\n",
       "      <th>learn_rate</th>\n",
       "      <th>max_depth</th>\n",
       "      <th>model_ids</th>\n",
       "      <th>mtries</th>\n",
       "      <th>nbins</th>\n",
       "      <th>ntrees</th>\n",
       "      <th>sample_rate</th>\n",
       "    </tr>\n",
       "  </thead>\n",
       "  <tbody>\n",
       "    <tr>\n",
       "      <th>0</th>\n",
       "      <td>0</td>\n",
       "      <td></td>\n",
       "      <td>0.910877</td>\n",
       "      <td>0.1</td>\n",
       "      <td>5</td>\n",
       "      <td>gbm_grid_binomial_model_1</td>\n",
       "      <td>NaN</td>\n",
       "      <td>10</td>\n",
       "      <td>40</td>\n",
       "      <td>0.75</td>\n",
       "    </tr>\n",
       "    <tr>\n",
       "      <th>1</th>\n",
       "      <td>1</td>\n",
       "      <td></td>\n",
       "      <td>0.910242</td>\n",
       "      <td>0.075</td>\n",
       "      <td>7</td>\n",
       "      <td>gbm_grid_binomial_model_0</td>\n",
       "      <td>NaN</td>\n",
       "      <td>10</td>\n",
       "      <td>40</td>\n",
       "      <td>0.75</td>\n",
       "    </tr>\n",
       "    <tr>\n",
       "      <th>2</th>\n",
       "      <td>2</td>\n",
       "      <td></td>\n",
       "      <td>0.907830</td>\n",
       "      <td>0.1</td>\n",
       "      <td>7</td>\n",
       "      <td>gbm_grid_binomial_model_3</td>\n",
       "      <td>NaN</td>\n",
       "      <td>10</td>\n",
       "      <td>30</td>\n",
       "      <td>0.8</td>\n",
       "    </tr>\n",
       "    <tr>\n",
       "      <th>3</th>\n",
       "      <td>3</td>\n",
       "      <td></td>\n",
       "      <td>0.906484</td>\n",
       "      <td>0.075</td>\n",
       "      <td>7</td>\n",
       "      <td>gbm_grid_binomial_model_2</td>\n",
       "      <td>NaN</td>\n",
       "      <td>20</td>\n",
       "      <td>40</td>\n",
       "      <td>0.9</td>\n",
       "    </tr>\n",
       "    <tr>\n",
       "      <th>4</th>\n",
       "      <td>4</td>\n",
       "      <td></td>\n",
       "      <td>0.903948</td>\n",
       "      <td>0.1</td>\n",
       "      <td>9</td>\n",
       "      <td>gbm_grid_binomial_model_5</td>\n",
       "      <td>NaN</td>\n",
       "      <td>10</td>\n",
       "      <td>20</td>\n",
       "      <td>0.75</td>\n",
       "    </tr>\n",
       "    <tr>\n",
       "      <th>5</th>\n",
       "      <td>5</td>\n",
       "      <td></td>\n",
       "      <td>0.901883</td>\n",
       "      <td>0.1</td>\n",
       "      <td>7</td>\n",
       "      <td>gbm_grid_binomial_model_4</td>\n",
       "      <td>NaN</td>\n",
       "      <td>15</td>\n",
       "      <td>20</td>\n",
       "      <td>0.85</td>\n",
       "    </tr>\n",
       "    <tr>\n",
       "      <th>6</th>\n",
       "      <td>0</td>\n",
       "      <td></td>\n",
       "      <td>0.899156</td>\n",
       "      <td>NaN</td>\n",
       "      <td>5</td>\n",
       "      <td>rf_grid_binomial_model_4</td>\n",
       "      <td>15</td>\n",
       "      <td>10</td>\n",
       "      <td>75</td>\n",
       "      <td>0.8</td>\n",
       "    </tr>\n",
       "    <tr>\n",
       "      <th>7</th>\n",
       "      <td>1</td>\n",
       "      <td></td>\n",
       "      <td>0.898259</td>\n",
       "      <td>NaN</td>\n",
       "      <td>7</td>\n",
       "      <td>rf_grid_binomial_model_1</td>\n",
       "      <td>15</td>\n",
       "      <td>10</td>\n",
       "      <td>50</td>\n",
       "      <td>0.8</td>\n",
       "    </tr>\n",
       "    <tr>\n",
       "      <th>8</th>\n",
       "      <td>2</td>\n",
       "      <td></td>\n",
       "      <td>0.898138</td>\n",
       "      <td>NaN</td>\n",
       "      <td>7</td>\n",
       "      <td>rf_grid_binomial_model_3</td>\n",
       "      <td>12</td>\n",
       "      <td>20</td>\n",
       "      <td>50</td>\n",
       "      <td>0.9</td>\n",
       "    </tr>\n",
       "    <tr>\n",
       "      <th>9</th>\n",
       "      <td>3</td>\n",
       "      <td></td>\n",
       "      <td>0.898013</td>\n",
       "      <td>NaN</td>\n",
       "      <td>7</td>\n",
       "      <td>rf_grid_binomial_model_0</td>\n",
       "      <td>15</td>\n",
       "      <td>20</td>\n",
       "      <td>50</td>\n",
       "      <td>0.75</td>\n",
       "    </tr>\n",
       "    <tr>\n",
       "      <th>10</th>\n",
       "      <td>4</td>\n",
       "      <td></td>\n",
       "      <td>0.897697</td>\n",
       "      <td>NaN</td>\n",
       "      <td>5</td>\n",
       "      <td>rf_grid_binomial_model_2</td>\n",
       "      <td>12</td>\n",
       "      <td>20</td>\n",
       "      <td>50</td>\n",
       "      <td>0.8</td>\n",
       "    </tr>\n",
       "    <tr>\n",
       "      <th>11</th>\n",
       "      <td>5</td>\n",
       "      <td></td>\n",
       "      <td>0.892825</td>\n",
       "      <td>NaN</td>\n",
       "      <td>7</td>\n",
       "      <td>rf_grid_binomial_model_5</td>\n",
       "      <td>18</td>\n",
       "      <td>30</td>\n",
       "      <td>75</td>\n",
       "      <td>0.75</td>\n",
       "    </tr>\n",
       "  </tbody>\n",
       "</table>\n",
       "</div>"
      ],
      "text/plain": [
       "    index         auc learn_rate max_depth                  model_ids mtries  \\\n",
       "0       0    0.910877        0.1         5  gbm_grid_binomial_model_1    NaN   \n",
       "1       1    0.910242      0.075         7  gbm_grid_binomial_model_0    NaN   \n",
       "2       2    0.907830        0.1         7  gbm_grid_binomial_model_3    NaN   \n",
       "3       3    0.906484      0.075         7  gbm_grid_binomial_model_2    NaN   \n",
       "4       4    0.903948        0.1         9  gbm_grid_binomial_model_5    NaN   \n",
       "5       5    0.901883        0.1         7  gbm_grid_binomial_model_4    NaN   \n",
       "6       0    0.899156        NaN         5   rf_grid_binomial_model_4     15   \n",
       "7       1    0.898259        NaN         7   rf_grid_binomial_model_1     15   \n",
       "8       2    0.898138        NaN         7   rf_grid_binomial_model_3     12   \n",
       "9       3    0.898013        NaN         7   rf_grid_binomial_model_0     15   \n",
       "10      4    0.897697        NaN         5   rf_grid_binomial_model_2     12   \n",
       "11      5    0.892825        NaN         7   rf_grid_binomial_model_5     18   \n",
       "\n",
       "   nbins ntrees sample_rate  \n",
       "0     10     40        0.75  \n",
       "1     10     40        0.75  \n",
       "2     10     30         0.8  \n",
       "3     20     40         0.9  \n",
       "4     10     20        0.75  \n",
       "5     15     20        0.85  \n",
       "6     10     75         0.8  \n",
       "7     10     50         0.8  \n",
       "8     20     50         0.9  \n",
       "9     20     50        0.75  \n",
       "10    20     50         0.8  \n",
       "11    30     75        0.75  "
      ]
     },
     "execution_count": 112,
     "metadata": {},
     "output_type": "execute_result"
    }
   ],
   "source": [
    "allModels"
   ]
  },
  {
   "cell_type": "markdown",
   "metadata": {
    "_datascience": {
     "keep": true
    }
   },
   "source": [
    "# Variable Importances\n",
    "Below we plot variable importances as reported by the best performing algo in the ensemble."
   ]
  },
  {
   "cell_type": "code",
   "execution_count": 113,
   "metadata": {
    "_datascience": {
     "keep": true,
     "summary": true
    }
   },
   "outputs": [
    {
     "data": {
      "text/html": [
       "<iframe id=\"igraph\" scrolling=\"no\" style=\"border:none;\" seamless=\"seamless\" src=\"https://plot.ly/~bretto777/2135.embed\" height=\"525px\" width=\"100%\"></iframe>"
      ],
      "text/plain": [
       "<plotly.tools.PlotlyDisplay object>"
      ]
     },
     "execution_count": 113,
     "metadata": {},
     "output_type": "execute_result"
    }
   ],
   "source": [
    "best = h2o.get_model(baselearner_best_name)\n",
    "\n",
    "importances = best.varimp(use_pandas=True)\n",
    "importances = importances.loc[:,['variable','relative_importance']].groupby('variable').mean()\n",
    "importances.sort_values(by=\"relative_importance\", ascending=False).iplot(kind='bar', colors='#5AC4F2', theme='white')"
   ]
  },
  {
   "cell_type": "markdown",
   "metadata": {
    "_datascience": {
     "keep": true,
     "summary": false
    }
   },
   "source": [
    "# Super Model vs the Base models\n",
    "This plot shows the ROC curves for the Super Model, the Best Base Model, and 9 next best models in the ensemble. "
   ]
  },
  {
   "cell_type": "code",
   "execution_count": 114,
   "metadata": {
    "_datascience": {
     "keep": true
    }
   },
   "outputs": [
    {
     "data": {
      "text/html": [
       "<iframe id=\"igraph\" scrolling=\"no\" style=\"border:none;\" seamless=\"seamless\" src=\"https://plot.ly/~bretto777/2137.embed\" height=\"575px\" width=\"725px\"></iframe>"
      ],
      "text/plain": [
       "<plotly.tools.PlotlyDisplay object>"
      ]
     },
     "execution_count": 114,
     "metadata": {},
     "output_type": "execute_result"
    }
   ],
   "source": [
    "SuperModel = np.array(ensemble.roc(valid=True))\n",
    "BestModel = np.array(h2o.get_model(baselearner_best_name).roc(xval=True))\n",
    "Model2 = np.array(h2o.get_model(allModels.loc[1,'model_ids']).roc(xval=True))\n",
    "Model3 = np.array(h2o.get_model(allModels.loc[2,'model_ids']).roc(xval=True))\n",
    "Model4 = np.array(h2o.get_model(allModels.loc[3,'model_ids']).roc(xval=True))\n",
    "Model5 = np.array(h2o.get_model(allModels.loc[4,'model_ids']).roc(xval=True))\n",
    "Model6 = np.array(h2o.get_model(allModels.loc[5,'model_ids']).roc(xval=True))\n",
    "Model7 = np.array(h2o.get_model(allModels.loc[6,'model_ids']).roc(xval=True))\n",
    "Model8 = np.array(h2o.get_model(allModels.loc[7,'model_ids']).roc(xval=True))\n",
    "Model9 = np.array(h2o.get_model(allModels.loc[8,'model_ids']).roc(xval=True))\n",
    "Model10 = np.array(h2o.get_model(allModels.loc[9,'model_ids']).roc(xval=True))\n",
    "\n",
    "\n",
    "\n",
    "layout = go.Layout(autosize=False, width=725, height=575,  xaxis=dict(title='False Positive Rate', titlefont=dict(family='Arial, sans-serif', size=15, color='grey')), \n",
    "                                                           yaxis=dict(title='True Positive Rate', titlefont=dict(family='Arial, sans-serif', size=15, color='grey')))\n",
    "\n",
    "SuperModelTrace = go.Scatter(x = SuperModel[0],y = SuperModel[1], mode = 'lines', name = 'Super Model', line = dict(color = ('rgb(26, 58, 126)'), width = 3))\n",
    "BestModelTrace = go.Scatter(x = BestModel[0],y = BestModel[1], mode = 'lines', name = 'Best Base Model', line = dict(color = ('rgb(135, 160, 216)'), width = 3))\n",
    "Model2Trace = go.Scatter(x = Model2[0], y = Model2[1], mode = 'lines', name = 'Model 2', line = dict(color = ('rgb(156, 190, 241)'), width = 1))\n",
    "Model3Trace = go.Scatter(x = Model3[0], y = Model3[1], mode = 'lines', name = 'Model 3', line = dict(color = ('rgb(156, 190, 241)'), width = 1))\n",
    "Model4Trace = go.Scatter(x = Model4[0], y = Model4[1], mode = 'lines', name = 'Model 4', line = dict(color = ('rgb(156, 190, 241)'), width = 1))\n",
    "Model5Trace = go.Scatter(x = Model5[0], y = Model5[1], mode = 'lines', name = 'Model 5', line = dict(color = ('rgb(156, 190, 241)'), width = 1))\n",
    "Model6Trace = go.Scatter(x = Model6[0], y = Model6[1], mode = 'lines', name = 'Model 6', line = dict(color = ('rgb(156, 190, 241)'), width = 1))\n",
    "Model7Trace = go.Scatter(x = Model7[0], y = Model7[1], mode = 'lines', name = 'Model 7', line = dict(color = ('rgb(156, 190, 241)'), width = 1))\n",
    "Model8Trace = go.Scatter(x = Model8[0], y = Model8[1], mode = 'lines', name = 'Model 8', line = dict(color = ('rgb(156, 190, 241)'), width = 1))\n",
    "Model9Trace = go.Scatter(x = Model9[0], y = Model9[1], mode = 'lines', name = 'Model 9', line = dict(color = ('rgb(156, 190, 241)'), width = 1))\n",
    "Model10Trace = go.Scatter(x = Model10[0], y = Model10[1], mode = 'lines', name = 'Model 10', line = dict(color = ('rgb(156, 190, 241)'), width = 1))\n",
    "\n",
    "traceChanceLine = go.Scatter(x = [0,1], y = [0,1], mode = 'lines+markers', name = 'chance', line = dict(color = ('rgb(136, 140, 150)'), width = 4, dash = 'dash'))\n",
    "\n",
    "fig = go.Figure(data=[SuperModelTrace,BestModelTrace,Model2Trace,Model3Trace,Model4Trace,Model5Trace,Model7Trace,Model8Trace,Model9Trace,Model10Trace,traceChanceLine], layout=layout)\n",
    "\n",
    "\n",
    "py.iplot(fig)\n"
   ]
  },
  {
   "cell_type": "markdown",
   "metadata": {
    "_datascience": {}
   },
   "source": [
    "# Confusion Matrix"
   ]
  },
  {
   "cell_type": "code",
   "execution_count": 115,
   "metadata": {
    "_datascience": {
     "keep": true
    }
   },
   "outputs": [
    {
     "data": {
      "text/html": [
       "<iframe id=\"igraph\" scrolling=\"no\" style=\"border:none;\" seamless=\"seamless\" src=\"https://plot.ly/~bretto777/2139.embed\" height=\"300px\" width=\"800px\"></iframe>"
      ],
      "text/plain": [
       "<plotly.tools.PlotlyDisplay object>"
      ]
     },
     "execution_count": 115,
     "metadata": {},
     "output_type": "execute_result"
    }
   ],
   "source": [
    "cm = perf_stack_test.confusion_matrix()\n",
    "cm = cm.table.as_data_frame()\n",
    "cm\n",
    "confusionMatrix = ff.create_table(cm)\n",
    "confusionMatrix.layout.height=300\n",
    "confusionMatrix.layout.width=800\n",
    "confusionMatrix.layout.font.size=17\n",
    "py.iplot(confusionMatrix)\n"
   ]
  },
  {
   "cell_type": "markdown",
   "metadata": {
    "_datascience": {
     "keep": true
    }
   },
   "source": [
    "# Business Impact Matrix\n",
    "\n",
    "Weighting Predictions With a Dollar Value\n",
    "-   Correctly predicting false: 5\n",
    "-   Correctly predicting true: 75\n",
    "-   Incorrectly predicting false: 150\n",
    "-   Incorrectly predicting true: 1.5\n",
    "\n",
    "    "
   ]
  },
  {
   "cell_type": "code",
   "execution_count": 116,
   "metadata": {
    "_datascience": {
     "keep": true
    }
   },
   "outputs": [
    {
     "data": {
      "text/html": [
       "<iframe id=\"igraph\" scrolling=\"no\" style=\"border:none;\" seamless=\"seamless\" src=\"https://plot.ly/~bretto777/2141.embed\" height=\"300px\" width=\"800px\"></iframe>"
      ],
      "text/plain": [
       "<plotly.tools.PlotlyDisplay object>"
      ]
     },
     "execution_count": 116,
     "metadata": {},
     "output_type": "execute_result"
    }
   ],
   "source": [
    "CorrectPredictChurn = cm.loc[0,'Churn']\n",
    "CorrectPredictChurnImpact = 75\n",
    "cm1 = CorrectPredictChurn*CorrectPredictChurnImpact\n",
    "\n",
    "IncorrectPredictChurn = cm.loc[1,'Churn']\n",
    "IncorrectPredictChurnImpact = -5\n",
    "cm2 = IncorrectPredictChurn*IncorrectPredictChurnImpact\n",
    "\n",
    "IncorrectPredictRetain = cm.loc[0,'Retain']\n",
    "IncorrectPredictRetainImpact = -150\n",
    "cm3 = IncorrectPredictRetain*IncorrectPredictRetainImpact\n",
    "\n",
    "CorrectPredictRetain = cm.loc[0,'Retain']\n",
    "CorrectPredictRetainImpact = 5\n",
    "cm4 = IncorrectPredictRetain*CorrectPredictRetainImpact\n",
    "\n",
    "\n",
    "data_matrix = [['Business Impact', '($) Predicted Retain', '($) Predicted Churn', '($) Total'],\n",
    "               ['($) Actual Retain', cm1, cm3, '' ],\n",
    "               ['($) Actual Churn', cm2, cm4, ''],\n",
    "               ['($) Total', cm1+cm2, cm3+cm4, cm1+cm2+cm3+cm4]]\n",
    "\n",
    "impactMatrix = ff.create_table(data_matrix, height_constant=20, hoverinfo='weight')\n",
    "impactMatrix.layout.height=300\n",
    "impactMatrix.layout.width=800\n",
    "impactMatrix.layout.font.size=17\n",
    "py.iplot(impactMatrix)"
   ]
  },
  {
   "cell_type": "code",
   "execution_count": 117,
   "metadata": {
    "_datascience": {
     "keep": true
    }
   },
   "outputs": [
    {
     "name": "stdout",
     "output_type": "stream",
     "text": [
      "Best learner AUC: 0.910876935859\n"
     ]
    }
   ],
   "source": [
    "print(\"Best learner AUC: \" + str(baselearner_best_auc))"
   ]
  },
  {
   "cell_type": "code",
   "execution_count": 118,
   "metadata": {
    "_datascience": {
     "keep": true
    }
   },
   "outputs": [
    {
     "name": "stdout",
     "output_type": "stream",
     "text": [
      "Super Model AUC: 0.947278772518\n"
     ]
    }
   ],
   "source": [
    "print(\"Super Model AUC: \" + str(stack_auc_test))"
   ]
  },
  {
   "cell_type": "code",
   "execution_count": 119,
   "metadata": {
    "_datascience": {
     "keep": true
    }
   },
   "outputs": [
    {
     "name": "stdout",
     "output_type": "stream",
     "text": [
      "Total customers evaluated: 534\n"
     ]
    }
   ],
   "source": [
    "print(\"Total customers evaluated: 534\")"
   ]
  },
  {
   "cell_type": "code",
   "execution_count": 120,
   "metadata": {
    "_datascience": {
     "keep": true
    }
   },
   "outputs": [
    {
     "name": "stdout",
     "output_type": "stream",
     "text": [
      "Total value created by the model: $1880.0\n"
     ]
    }
   ],
   "source": [
    "print(\"Total value created by the model: $\" + str(cm1+cm2+cm3+cm4))"
   ]
  },
  {
   "cell_type": "code",
   "execution_count": 121,
   "metadata": {
    "_datascience": {
     "keep": true
    },
    "scrolled": true
   },
   "outputs": [
    {
     "name": "stdout",
     "output_type": "stream",
     "text": [
      "Total value per customer: $3.521\n"
     ]
    }
   ],
   "source": [
    "print(\"Total value per customer: $\" +str(round(((cm1+cm2+cm3+cm4)/534),3)))"
   ]
  },
  {
   "cell_type": "markdown",
   "metadata": {
    "_datascience": {}
   },
   "source": [
    "## Save the Model"
   ]
  },
  {
   "cell_type": "code",
   "execution_count": null,
   "metadata": {
    "_datascience": {},
    "collapsed": true
   },
   "outputs": [],
   "source": [
    "# Save the model and upload it to s3\n",
    "import os\n",
    "from boto.s3.connection import S3Connection\n",
    "from boto.s3.key import Key"
   ]
  },
  {
   "cell_type": "code",
   "execution_count": null,
   "metadata": {
    "_datascience": {},
    "collapsed": true
   },
   "outputs": [],
   "source": [
    "def upload_file_to_s3(myFile):\n",
    "    def get_bucket():\n",
    "        access= os.environ['SECRET_ENV_AWS_ACCESS_KEY_BRETT'] \n",
    "        secret= os.environ['SECRET_ENV_AWS_SECRET_KEY_BRETT']\n",
    "        customer = 'demonstration'\n",
    "        conn = S3Connection(access,secret)\n",
    "        b = conn.get_bucket('dsclouddata',validate=False)\n",
    "        return b\n",
    "\n",
    "    s3_bucket = get_bucket()\n",
    "    k = Key(s3_bucket)    \n",
    "    k.key = myFile\n",
    "    k.set_contents_from_filename(myFile)\n",
    "    k.make_public()\n",
    "    successMessage = \"Uploaded %s to S3.\"%(myFile)    \n",
    "    return successMessage"
   ]
  },
  {
   "cell_type": "code",
   "execution_count": null,
   "metadata": {
    "_datascience": {},
    "collapsed": true
   },
   "outputs": [],
   "source": [
    "myFile = h2o.save_model(ensemble, force=True)\n",
    "# Upload the file\n",
    "upload_file_to_s3(myFile)"
   ]
  },
  {
   "cell_type": "code",
   "execution_count": null,
   "metadata": {
    "_datascience": {},
    "collapsed": true
   },
   "outputs": [],
   "source": [
    "def pull_file_from_s3(key):\n",
    "    def get_bucket():            \n",
    "        access= os.environ['SECRET_ENV_AWS_ACCESS_KEY_BRETT'] \n",
    "        secret= os.environ['SECRET_ENV_AWS_SECRET_KEY_BRETT']\n",
    "        customer = 'demonstration'\n",
    "        conn = S3Connection(access,secret)\n",
    "        b = conn.get_bucket('dsclouddata',validate=False)\n",
    "        return b\n",
    "\n",
    "    s3_bucket = get_bucket()\n",
    "    payload = s3_bucket.get_key(key)\n",
    "    local_file = payload.get_contents_to_filename(key)\n",
    "    return key"
   ]
  },
  {
   "cell_type": "code",
   "execution_count": null,
   "metadata": {
    "_datascience": {},
    "collapsed": true
   },
   "outputs": [],
   "source": [
    "# download the model from s3\n",
    "downloaded_model = pull_file_from_s3('/home/jupyter/GBM_RF_ensemble_')  \n",
    "\n",
    "# load the downloaded model into memory\n",
    "ChurnPredictor = h2o.load_model(path=downloaded_model)\n"
   ]
  },
  {
   "cell_type": "code",
   "execution_count": null,
   "metadata": {
    "_datascience": {},
    "collapsed": true
   },
   "outputs": [],
   "source": [
    "def churn_predict(batchFile):\n",
    "    # connect to the model scoring service\n",
    "    h2o.init()\n",
    "\n",
    "    # load the user-specified file\n",
    "    newData = h2o.import_file(batchFile)\n",
    "\n",
    "    # open the downloaded model\n",
    "    ChurnPredictor = h2o.load_model(path=downloaded_model)  \n",
    "    \n",
    "    # evaluate the feature vector using the model\n",
    "    predictions = ChurnPredictor.predict(newData)\n",
    "    predictions = newData.cbind(predictions)\n",
    "    h2o.download_csv(predictions, 'predictions.csv')\n",
    "    \n",
    "    upload_file_to_s3('/home/jupyter/predictions.csv')\n",
    "    return \"Saved predictions.csv to your S3 bucket.\""
   ]
  },
  {
   "cell_type": "code",
   "execution_count": null,
   "metadata": {
    "_datascience": {},
    "collapsed": true,
    "scrolled": true
   },
   "outputs": [],
   "source": [
    "churn_predict(batchFile = 'https://s3-us-west-1.amazonaws.com/dsclouddata/home/jupyter/churn_test.csv')"
   ]
  },
  {
   "cell_type": "code",
   "execution_count": null,
   "metadata": {
    "_datascience": {},
    "collapsed": true
   },
   "outputs": [],
   "source": [
    "def churn_predict(State,AccountLength,AreaCode,Phone,IntlPlan,VMailPlan,VMailMessage,DayMins,DayCalls,DayCharge,EveMins,EveCalls,EveCharge,NightMins,NightCalls,NightCharge,IntlMins,IntlCalls,IntlCharge,CustServCalls):\n",
    "    # define a feature vector to evaluate with the model\n",
    "    newData = pd.DataFrame({'State' : State,\n",
    "                            'Account Length' : AccountLength,\n",
    "                            'Area Code' : AreaCode,\n",
    "                            'Phone' : Phone,\n",
    "                            'Int\\'l Plan' : IntlPlan,\n",
    "                            'VMail Plan' : VMailPlan,\n",
    "                            'VMail Message' : VMailMessage,\n",
    "                            'Day Mins' : DayMins,\n",
    "                            'Day Calls' : DayCalls,\n",
    "                            'Day Charge' : DayCharge,\n",
    "                            'Eve Mins' : EveMins,\n",
    "                            'Eve Calls' : EveCalls,\n",
    "                            'Eve Charge' : EveCharge,\n",
    "                            'Night Mins' : NightMins,\n",
    "                            'Night Calls' : NightCalls,\n",
    "                            'Night Charge' : NightCharge,\n",
    "                            'Intl Mins' :IntlMins,\n",
    "                            'Intl Calls' : IntlCalls,\n",
    "                            'Intl Charge' : IntlCharge,\n",
    "                            'CustServ Calls' : CustServCalls}, index=[0])\n",
    "    \n",
    "    # evaluate the feature vector using the model\n",
    "    predictions = ChurnPredictor.predict(h2o.H2OFrame(newData))\n",
    "    predictionsOut = h2o.as_list(predictions, use_pandas=False)\n",
    "    return predictionsOut"
   ]
  },
  {
   "cell_type": "code",
   "execution_count": null,
   "metadata": {
    "_datascience": {},
    "collapsed": true
   },
   "outputs": [],
   "source": [
    "State = \"KS\"\n",
    "AccountLength = 1 \n",
    "AreaCode = 213\n",
    "Phone = \"362-1234\"\n",
    "IntlPlan = \"no\"\n",
    "VMailPlan = \"no\"\n",
    "VMailMessage = 0\n",
    "DayMins = 0\n",
    "DayCalls = 2\n",
    "DayCharge = 20\n",
    "EveMins = 120\n",
    "EveCalls = 97\n",
    "EveCharge = 7\n",
    "NightMins = 2\n",
    "NightCalls = 7\n",
    "NightCharge = 10\n",
    "IntlMins = 13\n",
    "IntlCalls = 0\n",
    "IntlCharge = 3.67\n",
    "CustServCalls = 2\n",
    "    \n",
    "\n",
    "churn_predict(State,AccountLength,AreaCode,Phone,IntlPlan,VMailPlan,VMailMessage,DayMins,DayCalls,DayCharge,EveMins,EveCalls,EveCharge,NightMins,NightCalls,NightCharge,IntlMins,IntlCalls,IntlCharge,CustServCalls)\n"
   ]
  }
 ],
 "metadata": {
  "_datascience": {
   "notebookId": 608,
   "post_id": "AVs_WCYcdxOghr0gw_3H"
  },
  "kernelspec": {
   "display_name": "Python 2",
   "language": "python",
   "name": "python2"
  },
  "language_info": {
   "codemirror_mode": {
    "name": "ipython",
    "version": 2
   },
   "file_extension": ".py",
   "mimetype": "text/x-python",
   "name": "python",
   "nbconvert_exporter": "python",
   "pygments_lexer": "ipython2",
   "version": "2.7.12"
  }
 },
 "nbformat": 4,
 "nbformat_minor": 2
}
